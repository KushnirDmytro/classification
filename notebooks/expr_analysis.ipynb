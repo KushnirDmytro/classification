{
 "cells": [
  {
   "cell_type": "code",
   "execution_count": null,
   "metadata": {
    "collapsed": false,
    "jupyter": {
     "outputs_hidden": false
    }
   },
   "outputs": [],
   "source": [
    "# to make interactive plotting possible\n",
    "%matplotlib inline\n",
    "# for auto-reloading external modules\n",
    "%load_ext autoreload\n",
    "%autoreload 2"
   ]
  },
  {
   "cell_type": "code",
   "execution_count": null,
   "metadata": {},
   "outputs": [],
   "source": [
    "import matplotlib.pyplot as plt\n",
    "import os\n",
    "import numpy as np"
   ]
  },
  {
   "cell_type": "code",
   "execution_count": null,
   "metadata": {},
   "outputs": [],
   "source": [
    "# make plots a bit nicer\n",
    "plt.matplotlib.rcParams.update({'font.size': 18, 'font.family': 'serif'})"
   ]
  },
  {
   "cell_type": "code",
   "execution_count": null,
   "metadata": {},
   "outputs": [],
   "source": [
    "# specify paths\n",
    "path_project = \"../\"\n",
    "path_log = os.path.join(path_project, \"experiments\", \"logs\")\n",
    "path_save = os.path.join(path_project, \"materials\", \"results\", \"fig\")"
   ]
  },
  {
   "cell_type": "code",
   "execution_count": null,
   "metadata": {},
   "outputs": [],
   "source": [
    "# save images or not\n",
    "make_save = False"
   ]
  },
  {
   "cell_type": "code",
   "execution_count": null,
   "metadata": {},
   "outputs": [],
   "source": [
    "def parse_log_file(file_log):\n",
    "    parse_res = {}\n",
    "    \n",
    "    if file_log.find('iter') != -1:\n",
    "        content_types = (int, float, str)\n",
    "    elif file_log.find('epoch') != -1:\n",
    "        content_types = (int, float, float, float, float, str)\n",
    "    \n",
    "    with open(file_log, 'r') as f:\n",
    "        content = f.readlines()\n",
    "    \n",
    "    content_tile = content[0].strip().split()\n",
    "    content = [x.strip().split() for x in content[1:]] \n",
    "    content_np = np.array(content)\n",
    "    \n",
    "    for i in range(len(content_types)):\n",
    "        parse_res[content_tile[i]] = content_np[:, i].astype(content_types[i])\n",
    "    \n",
    "    return parse_res"
   ]
  },
  {
   "cell_type": "code",
   "execution_count": null,
   "metadata": {},
   "outputs": [],
   "source": [
    "#num_exprs = list(range(22,32))\n",
    "num_exprs = [2, 3]\n",
    "\n",
    "data_epoch = {}\n",
    "data_iter = {}\n",
    "for i in num_exprs:\n",
    "    expr_name = \"e\" + str(i).zfill(4)\n",
    "    file_log_epoch = os.path.join(path_log, expr_name, expr_name + \"_log_epoch.txt\")\n",
    "    file_log_iter = os.path.join(path_log, expr_name, expr_name + \"_log_iter.txt\")\n",
    "\n",
    "    data_epoch[i] = parse_log_file(file_log_epoch)\n",
    "    data_iter[i] = parse_log_file(file_log_iter)"
   ]
  },
  {
   "cell_type": "code",
   "execution_count": null,
   "metadata": {
    "collapsed": false,
    "jupyter": {
     "outputs_hidden": false
    }
   },
   "outputs": [],
   "source": [
    "for i in num_exprs:\n",
    "    print(i, max(data_epoch[i]['avg_acc_val']))"
   ]
  },
  {
   "cell_type": "code",
   "execution_count": null,
   "metadata": {},
   "outputs": [],
   "source": [
    "styles = ['.-c', '.-m', '.-b', '.-r', '.-g', '.-y', '.-k', '*-r']"
   ]
  },
  {
   "cell_type": "code",
   "execution_count": null,
   "metadata": {},
   "outputs": [],
   "source": [
    "#exp_of_interest = [22, 23, 24, 25]\n",
    "exp_of_interest = [2, 3]"
   ]
  },
  {
   "cell_type": "code",
   "execution_count": null,
   "metadata": {
    "collapsed": false,
    "jupyter": {
     "outputs_hidden": false
    }
   },
   "outputs": [],
   "source": [
    "fig = plt.figure(figsize=(10, 5))\n",
    "ax = fig.add_subplot(111)\n",
    "\n",
    "for (i,e) in enumerate(exp_of_interest):\n",
    "    expr_name = \"e\" + str(e).zfill(4)\n",
    "    ax.plot(data_iter[e]['iter'], data_iter[e]['loss'], \n",
    "             styles[i], label=\"[\" + expr_name + \"]\")\n",
    "\n",
    "ax.set_xlabel(\"# iter\")\n",
    "ax.set_ylabel(\"loss\")\n",
    "ax.set_title(\"Train loss\")\n",
    "ax.grid()\n",
    "\n",
    "handles, labels = ax.get_legend_handles_labels()\n",
    "lgd = ax.legend(handles, labels, loc='best', bbox_to_anchor=(1.05, 1))\n",
    "\n",
    "prefix_name = \",\".join([\"e\" + str(i).zfill(4) for i in exp_of_interest])\n",
    "file_save = os.path.join(path_save, prefix_name + \"_train_loss_iter.png\")\n",
    "print(file_save)\n",
    "if make_save:\n",
    "    plt.savefig(file_save, bbox_extra_artists=(lgd,), bbox_inches='tight', dpi=300)"
   ]
  },
  {
   "cell_type": "code",
   "execution_count": null,
   "metadata": {
    "collapsed": false,
    "jupyter": {
     "outputs_hidden": false
    }
   },
   "outputs": [],
   "source": [
    "quantity = 'acc'   # 'loss' or 'acc'\n",
    "phase = 'val'       # 'val' or 'train'\n",
    "\n",
    "quantity_long = 'Accuracy' if quantity == 'acc' else 'Loss'\n",
    "phase_long = 'Validation' if phase == 'val' else 'Train'\n",
    "\n",
    "fig = plt.figure(figsize=(10, 5))\n",
    "ax = fig.add_subplot(111)\n",
    "\n",
    "for (i,e) in enumerate(exp_of_interest):\n",
    "    expr_name = \"e\" + str(e).zfill(4)\n",
    "    ax.plot(data_epoch[e]['epoch'], data_epoch[e]['avg_' + quantity + '_' + phase], \n",
    "             styles[i], label=\"[\" + expr_name + \"]\")\n",
    "\n",
    "ax.set_xlabel(\"# epoch\")\n",
    "ax.set_ylabel(quantity)\n",
    "ax.set_title(phase_long + \" \" + quantity_long)\n",
    "ax.set_ylim(50)\n",
    "ax.grid()\n",
    "\n",
    "handles, labels = ax.get_legend_handles_labels()\n",
    "lgd = ax.legend(handles, labels, loc='best', bbox_to_anchor=(1.05, 1))\n",
    "\n",
    "prefix_name = \",\".join([\"e\" + str(i).zfill(4) for i in exp_of_interest])\n",
    "file_save = os.path.join(path_save, prefix_name + \"_\" + phase +\"_\" + quantity + \"_epoch.png\")\n",
    "print(file_save)\n",
    "if make_save:\n",
    "    plt.savefig(file_save, bbox_extra_artists=(lgd,), bbox_inches='tight', dpi=300)"
   ]
  },
  {
   "cell_type": "code",
   "execution_count": null,
   "metadata": {
    "collapsed": false,
    "jupyter": {
     "outputs_hidden": false
    }
   },
   "outputs": [],
   "source": [
    "quantity = 'acc'\n",
    "quantity_long = 'Accuracy' if quantity == 'acc' else 'Loss'\n",
    "\n",
    "fig = plt.figure(figsize=(10, 5))\n",
    "ax = fig.add_subplot(111)\n",
    "\n",
    "for (i,e) in enumerate(exp_of_interest):\n",
    "    expr_name = \"e\" + str(e).zfill(4)\n",
    "    ax.plot(data_epoch[e]['epoch'], data_epoch[e]['avg_' + quantity + '_train'], \n",
    "             styles[2*i], label=\"[\" + expr_name + \"]\" + \" train\")\n",
    "    ax.plot(data_epoch[e]['epoch'], data_epoch[e]['avg_' + quantity + '_val'], \n",
    "             styles[2*i + 1], label=\"[\" + expr_name + \"]\" + \" val\")\n",
    "\n",
    "ax.set_xlabel(\"# epoch\")\n",
    "ax.set_ylabel(\"loss\")\n",
    "ax.set_title(\"Train & Validation \" + quantity_long)\n",
    "ax.set_ylim(80)\n",
    "ax.grid()\n",
    "\n",
    "handles, labels = ax.get_legend_handles_labels()\n",
    "lgd = ax.legend(handles, labels, loc='best', bbox_to_anchor=(1.05, 1))\n",
    "\n",
    "prefix_name = \",\".join([\"e\" + str(i).zfill(4) for i in exp_of_interest])\n",
    "print(file_save)\n",
    "if make_save:\n",
    "    file_save = os.path.join(path_save, prefix_name + \"_train_val_\" + quantity + \"_epoch.png\")\n",
    "    plt.savefig(file_save, bbox_extra_artists=(lgd,), bbox_inches='tight', dpi=300)"
   ]
  },
  {
   "cell_type": "code",
   "execution_count": null,
   "metadata": {
    "collapsed": false,
    "jupyter": {
     "outputs_hidden": false
    }
   },
   "outputs": [],
   "source": []
  }
 ],
 "metadata": {
  "kernelspec": {
   "display_name": "Python 3",
   "language": "python",
   "name": "python3"
  },
  "language_info": {
   "codemirror_mode": {
    "name": "ipython",
    "version": 3
   },
   "file_extension": ".py",
   "mimetype": "text/x-python",
   "name": "python",
   "nbconvert_exporter": "python",
   "pygments_lexer": "ipython3",
   "version": "3.6.8"
  }
 },
 "nbformat": 4,
 "nbformat_minor": 4
}
